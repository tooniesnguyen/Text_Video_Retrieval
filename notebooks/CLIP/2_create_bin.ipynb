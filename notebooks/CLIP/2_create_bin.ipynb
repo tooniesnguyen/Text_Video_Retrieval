{
 "cells": [
  {
   "cell_type": "code",
   "execution_count": 1,
   "metadata": {},
   "outputs": [],
   "source": [
    "import numpy as np\n",
    "import faiss\n",
    "import glob\n",
    "import json\n",
    "import matplotlib.pyplot as plt\n",
    "import os\n",
    "import math\n",
    "import pandas as pd\n",
    "import re\n",
    "import time\n",
    "from pathlib import Path\n",
    "import sys\n",
    "\n",
    "from langdetect import detect"
   ]
  },
  {
   "cell_type": "code",
   "execution_count": 2,
   "metadata": {},
   "outputs": [
    {
     "name": "stdout",
     "output_type": "stream",
     "text": [
      "Main Work Directory: /home/toonies/Learn/training_aic\n"
     ]
    }
   ],
   "source": [
    "ROOT = Path(os.getcwd()).resolve()\n",
    "\n",
    "if str(ROOT) not in sys.path:\n",
    "    sys.path.append(str(ROOT))\n",
    "WORK_DIR = ROOT.parents[1]\n",
    "\n",
    "print(\"Main Work Directory:\", WORK_DIR)"
   ]
  },
  {
   "cell_type": "code",
   "execution_count": 3,
   "metadata": {},
   "outputs": [
    {
     "name": "stdout",
     "output_type": "stream",
     "text": [
      "Saved /home/toonies/Learn/training_aic/data/dicts/bin_clip/faiss_CLIP_cosine.bin\n"
     ]
    }
   ],
   "source": [
    "def process_name(name: int):\n",
    "    return \"0\"*(6-len(str(name))) + str(name)\n",
    "\n",
    "def sort_key(file_path):\n",
    "    file_name = os.path.basename(file_path)\n",
    "    match = re.match(r'(\\D+)(\\d+)_(V)(\\d+)', file_name)\n",
    "    if match:\n",
    "        prefix = match.group(1)\n",
    "        number = int(match.group(2))\n",
    "        suffix_number = int(match.group(4))\n",
    "        return (prefix, number, suffix_number)\n",
    "    return (file_name, 0, 0)\n",
    "  \n",
    "  \n",
    "def write_bin_file_ocr(bin_path: str, npy_path: str  ,method='cosine', feature_shape= 512): # Edit 512, 768\n",
    "  if method in 'L2':\n",
    "    index = faiss.IndexFlatL2(feature_shape)\n",
    "  elif method in 'cosine':\n",
    "    index = faiss.IndexFlatIP(feature_shape)\n",
    "  else:\n",
    "    assert f\"{method} not supported\"\n",
    "  \n",
    "  npy_files = glob.glob(os.path.join(npy_path, \"*.npy\"))\n",
    "  npy_files_sorted = sorted(npy_files, key=sort_key)\n",
    "  \n",
    "  for npy_file in npy_files_sorted:\n",
    "    feats = np.load(npy_file)\n",
    "    index.add(feats)\n",
    "    \n",
    "  faiss.write_index(index, os.path.join(bin_path, f\"faiss_CLIP_{method}.bin\"))\n",
    "\n",
    "  print(f'Saved {os.path.join(bin_path, f\"faiss_CLIP_{method}.bin\")}')\n",
    "  \n",
    "write_bin_file_ocr(bin_path = f\"{WORK_DIR}/data/dicts/bin_clip\", npy_path = f\"{WORK_DIR}/data/dicts/npy_clip\")\n"
   ]
  },
  {
   "cell_type": "code",
   "execution_count": null,
   "metadata": {},
   "outputs": [],
   "source": []
  }
 ],
 "metadata": {
  "kernelspec": {
   "display_name": "aic",
   "language": "python",
   "name": "python3"
  },
  "language_info": {
   "codemirror_mode": {
    "name": "ipython",
    "version": 3
   },
   "file_extension": ".py",
   "mimetype": "text/x-python",
   "name": "python",
   "nbconvert_exporter": "python",
   "pygments_lexer": "ipython3",
   "version": "3.9.18"
  },
  "orig_nbformat": 4,
  "vscode": {
   "interpreter": {
    "hash": "b5c3571c915057e8e805beb3a945fd93e36537108e463620e5766b6feaddc5f6"
   }
  }
 },
 "nbformat": 4,
 "nbformat_minor": 2
}
