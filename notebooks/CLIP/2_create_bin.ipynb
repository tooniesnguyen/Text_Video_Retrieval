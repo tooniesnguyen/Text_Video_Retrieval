version https://git-lfs.github.com/spec/v1
oid sha256:630aca1021670aaf3ac18fc0c4232e7d2a69209e548a5500f4b18084e24ca80b
size 3443
