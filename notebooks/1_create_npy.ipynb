{
 "cells": [
  {
   "cell_type": "code",
   "execution_count": 1,
   "metadata": {},
   "outputs": [
    {
     "name": "stderr",
     "output_type": "stream",
     "text": [
      "/home/toonies/miniconda3/envs/aic/lib/python3.9/site-packages/tqdm/auto.py:21: TqdmWarning: IProgress not found. Please update jupyter and ipywidgets. See https://ipywidgets.readthedocs.io/en/stable/user_install.html\n",
      "  from .autonotebook import tqdm as notebook_tqdm\n"
     ]
    }
   ],
   "source": [
    "import torch\n",
    "import clip\n",
    "from PIL import Image\n",
    "import numpy as np\n",
    "import glob\n",
    "import math\n",
    "from scipy import spatial\n",
    "import os\n",
    "from pathlib import Path\n",
    "import sys\n",
    "import time\n",
    "from tqdm import tqdm"
   ]
  },
  {
   "cell_type": "code",
   "execution_count": 5,
   "metadata": {},
   "outputs": [
    {
     "name": "stdout",
     "output_type": "stream",
     "text": [
      "Device : cuda\n",
      "Current Working Directory: /home/toonies/Learn/Text_Video_Retrieval\n"
     ]
    }
   ],
   "source": [
    "ROOT = Path(os.getcwd()).resolve()\n",
    "\n",
    "if str(ROOT) not in sys.path:\n",
    "    sys.path.append(str(ROOT))\n",
    "\n",
    "WORK_DIR = ROOT.parents[0]\n",
    "\n",
    "device = torch.device(\"cuda\" if torch.cuda.is_available() else \"cpu\")\n",
    "model, preprocess = clip.load(\"ViT-B/32\", device=device)\n",
    "\n",
    "print(\"Device :\", device)\n",
    "print(\"Current Working Directory:\", WORK_DIR)"
   ]
  },
  {
   "cell_type": "code",
   "execution_count": 6,
   "metadata": {},
   "outputs": [
    {
     "name": "stderr",
     "output_type": "stream",
     "text": [
      "100%|██████████| 2/2 [04:42<00:00, 141.02s/it]\n"
     ]
    }
   ],
   "source": [
    "des_path =  f\"{WORK_DIR}/data/dicts/npy_clip\"\n",
    "paths = f\"{WORK_DIR}/data/images\"\n",
    "\n",
    "\n",
    "for keyframe in tqdm(os.listdir(paths)):\n",
    "  path_keyframe = os.path.join(paths,keyframe)\n",
    "  video_paths = sorted(glob.glob(f\"{path_keyframe}/*/\"))\n",
    "  video_paths = ['/'.join(i.split('/')[:-1]) for i in video_paths]\n",
    "\n",
    "  start_time = time.time()\n",
    "  for vd_path in video_paths:\n",
    "\n",
    "    re_feats = []\n",
    "    keyframe_paths = glob.glob(f'{vd_path}/*.jpg')\n",
    "    keyframe_paths = sorted(keyframe_paths, key=lambda x : x.split('/')[-1].replace('.jpg',''))\n",
    "\n",
    "    for keyframe_path in keyframe_paths:\n",
    "      image = preprocess(Image.open(keyframe_path)).unsqueeze(0).to(device)\n",
    "\n",
    "      with torch.no_grad():\n",
    "          image_feats = model.encode_image(image)\n",
    "\n",
    "      image_feats /= image_feats.norm(dim=-1, keepdim=True)\n",
    "      image_feats = image_feats.detach().cpu().numpy().astype(np.float16).flatten() \n",
    "\n",
    "      re_feats.append(image_feats)\n",
    "\n",
    "    name_npy = vd_path.split('/')[-1]\n",
    "    outfile = f'{des_path}/{name_npy}.npy'\n",
    "    np.save(outfile, re_feats)"
   ]
  },
  {
   "cell_type": "code",
   "execution_count": null,
   "metadata": {},
   "outputs": [],
   "source": []
  }
 ],
 "metadata": {
  "kernelspec": {
   "display_name": "aic",
   "language": "python",
   "name": "python3"
  },
  "language_info": {
   "codemirror_mode": {
    "name": "ipython",
    "version": 3
   },
   "file_extension": ".py",
   "mimetype": "text/x-python",
   "name": "python",
   "nbconvert_exporter": "python",
   "pygments_lexer": "ipython3",
   "version": "3.9.19"
  }
 },
 "nbformat": 4,
 "nbformat_minor": 2
}
