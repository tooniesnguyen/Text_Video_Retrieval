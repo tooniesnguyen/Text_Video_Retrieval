version https://git-lfs.github.com/spec/v1
oid sha256:9fef518ee0dbd113848650632ab735829d2f444ac7e737b70233cb55423bb9d4
size 3471
