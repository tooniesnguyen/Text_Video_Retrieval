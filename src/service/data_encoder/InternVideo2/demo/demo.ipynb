version https://git-lfs.github.com/spec/v1
oid sha256:5ce5f96634d7bfed1092984a687aff206aaab1b44b695763af37ddd8caec0915
size 3188
